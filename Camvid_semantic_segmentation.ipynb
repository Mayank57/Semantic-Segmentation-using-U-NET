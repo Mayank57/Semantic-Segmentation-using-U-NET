{
  "nbformat": 4,
  "nbformat_minor": 0,
  "metadata": {
    "colab": {
      "name": "Camvid semantic segmentation.ipynb",
      "provenance": [],
      "collapsed_sections": [],
      "machine_shape": "hm"
    },
    "kernelspec": {
      "name": "python3",
      "display_name": "Python 3"
    },
    "accelerator": "GPU"
  },
  "cells": [
    {
      "cell_type": "markdown",
      "metadata": {
        "id": "oXH0pkBCEQUc",
        "colab_type": "text"
      },
      "source": [
        "# Semantic Segmentation\n",
        "## What is Semantic Segmentation?\n",
        "Semantic segmentation refers to the process of linking each pixel in an image to a class label. It can also be referred to as **image classification for pixels** in an image. Its primary applications include autonomous vehicles, human-computer interaction, robotics and photo-editing tools. It is very useful for delf-driving cars in which contextual information of the environment is required at each and every step while traversing the route.\n",
        "\n",
        "![alt text](https://miro.medium.com/max/1000/1*wbaUQkYzRhvmd7IjKJjjCg.gif)\n",
        "\n",
        "\n",
        "## Aim of this project\n",
        "What we aim to do in this project is to perform semantic segmentation on CAMVID dataset and evaluate the deep learning model by using some metrics.\n",
        "\n",
        "## Deep Learning architecture\n",
        "For this project, I am going to use unet architecture, which was developed by Olaf Ronneberger et al. for Bio Medical Image Segmentation. The architecture of this model is similar to that of an autoencoder. The encoding path consists of a series of convolutions, also known as the down-sampling path. The decoding path consists of upconvolutions (transposed convolutions are used in this case). It's also called the up-sampling path. The architecture of unet is fully convolutional, wherein we are using the Cross Entropy Loss.\n",
        "\n",
        "![alt text](https://miro.medium.com/max/1600/1*OkUrpDD6I0FpugA_bbYBJQ.png)\n",
        "\n",
        "## Specific details of the dataset used\n",
        "The Cambridge-driving Labeled Video Database (CamVid) is the first collection of videos with object class semantic labels, complete with metadata. The database provides ground truth labels that associate each pixel with one of 32 semantic classes.\n",
        "\n",
        "## Deep Learning Framework used\n",
        "I=We have used PyTorch as the deep learning framework for this task.\n",
        "\n",
        "## Steps involved\n",
        "\n",
        "\n",
        "1.   Data-preprocessing\n",
        "2.   Data-loading (using custom dataloaders)\n",
        "3.   Developing the deep learning architecture\n",
        "4.   Training the model\n",
        "5.   Evaluating the model:\n",
        "     1.   Pixel Accuracy\n",
        "     2.   Intersection over Union\n",
        "6.   Testing for a particular sample image\n",
        "\n",
        "\n",
        "\n"
      ]
    },
    {
      "cell_type": "markdown",
      "metadata": {
        "id": "I0ZiJZPfIpS_",
        "colab_type": "text"
      },
      "source": [
        "# Data-preprocessing\n",
        "In any machine learning task, most of the effort goes in converting the given raw data into the format we require. So, our main aim is to load the CAMVID dataset images, convert the segmented dataset into required ground truth label and storing this data into a list which shall be later fed to the dataloaders."
      ]
    },
    {
      "cell_type": "code",
      "metadata": {
        "id": "JQKNSAeyN0Xe",
        "colab_type": "code",
        "colab": {}
      },
      "source": [
        "# We will import all the important libraries which are required for the execution of this task\n",
        "\n",
        "import numpy as np\n",
        "import torch\n",
        "import torch.nn as nn\n",
        "import torch.nn.functional as F\n",
        "import torch.utils.data as data\n",
        "import torchvision\n",
        "from torchvision import transforms\n",
        "import torch.optim as optim\n",
        "import matplotlib.pyplot as plt\n",
        "import cv2 \n",
        "import os\n",
        "from tqdm import tqdm\n",
        "import matplotlib.pyplot as plt"
      ],
      "execution_count": 0,
      "outputs": []
    },
    {
      "cell_type": "code",
      "metadata": {
        "id": "Jqz_r9wqO6yB",
        "colab_type": "code",
        "outputId": "5a6bf771-29c1-4e44-8dac-b1348c22bf2f",
        "colab": {
          "base_uri": "https://localhost:8080/",
          "height": 35
        }
      },
      "source": [
        "# We will mount google drive here so that we can access the folders and files in google drive\n",
        "\n",
        "from google.colab import drive\n",
        "drive.mount('/content/gdrive');"
      ],
      "execution_count": 16,
      "outputs": [
        {
          "output_type": "stream",
          "text": [
            "Drive already mounted at /content/gdrive; to attempt to forcibly remount, call drive.mount(\"/content/gdrive\", force_remount=True).\n"
          ],
          "name": "stdout"
        }
      ]
    },
    {
      "cell_type": "code",
      "metadata": {
        "id": "aDxpUxsLPCWA",
        "colab_type": "code",
        "colab": {}
      },
      "source": [
        "# Import train, validation and test images from the folders and store these in a list\n",
        "\n",
        "def load_img(folder):\n",
        "    images = [];\n",
        "    for filename in os.listdir(folder): # List all the filenames in the folder\n",
        "        img = cv2.imread(os.path.join(folder, filename)); # Join the link of the folder and filename\n",
        "        img = cv2.resize(img, (128, 128), interpolation = cv2.INTER_AREA);\n",
        "        images.append(img);\n",
        "    return images\n",
        "\n",
        "# To load labeled gray-scaled images\n",
        "\n",
        "def load_label_img(folder):\n",
        "    images = [];\n",
        "    for filename in os.listdir(folder): # List all the filenames in the folder\n",
        "        img = cv2.imread(os.path.join(folder, filename)); # Join the link of the folder and filename\n",
        "        img = cv2.resize(img, (128, 128), interpolation = cv2.INTER_AREA);\n",
        "        img = cv2.cvtColor(img, cv2.COLOR_BGR2GRAY);\n",
        "        images.append(img);\n",
        "    return images"
      ],
      "execution_count": 0,
      "outputs": []
    },
    {
      "cell_type": "markdown",
      "metadata": {
        "id": "lr2JAzuXKBQW",
        "colab_type": "text"
      },
      "source": [
        "We are converting the segmented label images into grayscale because it simplifies the problem of converting these images into ground truth label matrices (we shall see this later on)."
      ]
    },
    {
      "cell_type": "code",
      "metadata": {
        "id": "QLfYSFTdPg0a",
        "colab_type": "code",
        "colab": {}
      },
      "source": [
        "# Convert the output labels to pixel-wise classes\n",
        "\n",
        "def c2g(cn):\n",
        "    cn = np.reshape(cn, (1, 1, 3));\n",
        "    cn = cv2.cvtColor(cn, cv2.COLOR_BGR2GRAY);\n",
        "    return cn;\n",
        "\n",
        "# Pixels corresponding to each class are stored in the list in gray scale form\n",
        "\n",
        "colors = [];\n",
        "colors.append(c2g(np.array([64, 128, 64], dtype = 'uint8')));\n",
        "colors.append(c2g(np.array([128, 0, 192], dtype = 'uint8')));\n",
        "colors.append(c2g(np.array([192, 128, 0], dtype = 'uint8')));\n",
        "colors.append(c2g(np.array([64, 128, 0], dtype = 'uint8')));\n",
        "colors.append(c2g(np.array([0, 0, 128], dtype = 'uint8')));\n",
        "colors.append(c2g(np.array([128, 0, 64], dtype = 'uint8')));\n",
        "colors.append(c2g(np.array([192, 0, 64], dtype = 'uint8')));\n",
        "colors.append(c2g(np.array([64, 128, 192], dtype = 'uint8')));\n",
        "colors.append(c2g(np.array([128, 192, 192], dtype = 'uint8')));\n",
        "colors.append(c2g(np.array([128, 64, 64], dtype = 'uint8')));\n",
        "colors.append(c2g(np.array([192, 0, 128], dtype = 'uint8')));\n",
        "colors.append(c2g(np.array([64, 0, 192], dtype = 'uint8')));\n",
        "colors.append(c2g(np.array([64, 128, 128], dtype = 'uint8')));\n",
        "colors.append(c2g(np.array([192, 0, 192], dtype = 'uint8')));\n",
        "colors.append(c2g(np.array([64, 64, 128], dtype = 'uint8')));\n",
        "colors.append(c2g(np.array([128, 192, 64], dtype = 'uint8')));\n",
        "colors.append(c2g(np.array([0, 64, 64], dtype = 'uint8')));\n",
        "colors.append(c2g(np.array([128, 64, 128], dtype = 'uint8')));\n",
        "colors.append(c2g(np.array([192, 128, 128], dtype = 'uint8')));\n",
        "colors.append(c2g(np.array([192, 0, 0], dtype = 'uint8')));\n",
        "colors.append(c2g(np.array([128, 128, 192], dtype = 'uint8')));\n",
        "colors.append(c2g(np.array([128, 128, 128], dtype = 'uint8')));\n",
        "colors.append(c2g(np.array([192, 128, 64], dtype = 'uint8')));\n",
        "colors.append(c2g(np.array([64, 0, 0], dtype = 'uint8')));\n",
        "colors.append(c2g(np.array([64, 64, 0], dtype = 'uint8')));\n",
        "colors.append(c2g(np.array([128, 64, 192], dtype = 'uint8')));\n",
        "colors.append(c2g(np.array([0, 128, 128], dtype = 'uint8')));\n",
        "colors.append(c2g(np.array([192, 128, 192], dtype = 'uint8')));\n",
        "colors.append(c2g(np.array([64, 0, 64], dtype = 'uint8')));\n",
        "colors.append(c2g(np.array([0, 192, 192], dtype = 'uint8')));\n",
        "colors.append(c2g(np.array([0, 0, 0], dtype = 'uint8')));\n",
        "colors.append(c2g(np.array([0, 192, 64], dtype = 'uint8')));\n",
        "\n",
        "def class_pixel(label_img):\n",
        "    class_pix = np.ones([128, 128, 1], dtype = int);\n",
        "    for index, c in enumerate(colors):\n",
        "        class_pix[label_img == c] = index; # Vectorized masking is much much faster\n",
        "    return class_pix"
      ],
      "execution_count": 0,
      "outputs": []
    },
    {
      "cell_type": "markdown",
      "metadata": {
        "id": "3_Ba0XZpKjMi",
        "colab_type": "text"
      },
      "source": [
        "Our main aim in the above function is to convert segmented label images to ground truth label form."
      ]
    },
    {
      "cell_type": "code",
      "metadata": {
        "id": "Q0sMsuDBPmNN",
        "colab_type": "code",
        "colab": {}
      },
      "source": [
        "# Convert all segmented images into labeled images\n",
        "\n",
        "def label_img_list(img_list):\n",
        "    images = [];\n",
        "    for image in img_list:\n",
        "        images.append(class_pixel(image));\n",
        "    return images;\n"
      ],
      "execution_count": 0,
      "outputs": []
    },
    {
      "cell_type": "markdown",
      "metadata": {
        "id": "kUjLbHCkLIk3",
        "colab_type": "text"
      },
      "source": [
        "# Data-loading\n",
        "In this step, we define transforms that have be applied on the image as well as the image labels. Then we create custom dataset classes in order to load the train, validation and test images and labels."
      ]
    },
    {
      "cell_type": "code",
      "metadata": {
        "id": "lHRJG3PHPrAF",
        "colab_type": "code",
        "colab": {}
      },
      "source": [
        "# Define the transformations that have to be applied on the images\n",
        "\n",
        "transform_img = transforms.Compose([ \n",
        "    transforms.ToTensor(),\n",
        "    transforms.Normalize(mean=[0.5, 0.5, 0.5],   # input[channel] = (input[channel] - mean[channel]) / std[channel]\n",
        "                        std=[0.5, 0.5, 0.5])])\n",
        "\n",
        "transform_img_label = transforms.Compose([\n",
        "    transforms.ToTensor()\n",
        "])\n",
        "\n",
        "from torch.utils.data import Dataset, DataLoader\n",
        "\n",
        "# We have to create custom classes in order to use the DataLoader. These classes inherit the Dataset class\n",
        "\n",
        "class trainset(data.Dataset):\n",
        "    def __init__(self, transform = None, root_train = None, root_train_label = None, transform_label = None):\n",
        "        self.train_img = load_img(root_train);\n",
        "        self.transform = transform;\n",
        "        self.transform_label = transform_label;\n",
        "        self.train_label_img = label_img_list(load_label_img(root_train_label));\n",
        "        \n",
        "    def __len__(self):\n",
        "        return len(self.train_img);\n",
        "    \n",
        "    def __getitem__(self, index):\n",
        "        img = self.transform(self.train_img[index]);\n",
        "        label = self.transform_label(self.train_label_img[index]);\n",
        "        return img, label;\n",
        "\n",
        "class valset(data.Dataset):\n",
        "    def __init__(self, transform = None, root_val = None, root_val_label = None, transform_label = None):\n",
        "        self.val_img = load_img(root_val);\n",
        "        self.transform = transform;\n",
        "        self.transform_label = transform_label;\n",
        "        self.val_label_img = label_img_list(load_label_img(root_val_label));\n",
        "        \n",
        "    def __len__(self):\n",
        "        return len(self.val_img);\n",
        "    \n",
        "    def __getitem__(self, index):\n",
        "        img = self.transform(self.val_img[index]);\n",
        "        label = self.transform_label(self.val_label_img[index]);\n",
        "        return img, label\n",
        "\n",
        "    \n",
        "class testset(data.Dataset):\n",
        "    def __init__(self, transform = None, root_test = None, root_test_label = None, transform_label = None):\n",
        "        self.test_img = load_img(root_test);\n",
        "        self.transform = transform;\n",
        "        self.transform_label = transform_label;\n",
        "        self.test_label_img = label_img_list(load_label_img(root_test_label));\n",
        "        \n",
        "    def __len__(self):\n",
        "        return len(self.test_img);\n",
        "    \n",
        "    def __getitem__(self, index):\n",
        "        img = self.transform(self.test_img[index]);\n",
        "        label = self.transform_label(self.test_label_img[index]);\n",
        "        return img, label\n",
        "\n",
        "\n",
        "traindataset = trainset(transform_img, '/content/gdrive/My Drive/Camvid dataset/train/', '/content/gdrive/My Drive/Camvid dataset/train_labels/', transform_img_label);\n",
        "valdataset = valset(transform_img, '/content/gdrive/My Drive/Camvid dataset/val/', '/content/gdrive/My Drive/Camvid dataset/val_labels/', transform_img_label);\n",
        "testdataset = testset(transform_img, '/content/gdrive/My Drive/Camvid dataset/test/', '/content/gdrive/My Drive/Camvid dataset/test_labels/', transform_img_label);\n",
        "\n",
        "# We have to instantiate these classes and feed this to the dataloader"
      ],
      "execution_count": 0,
      "outputs": []
    },
    {
      "cell_type": "code",
      "metadata": {
        "id": "XOl8sxAxIMa3",
        "colab_type": "code",
        "colab": {}
      },
      "source": [
        "# Dataloaders are used for loading the dataset\n",
        "\n",
        "train_loader = data.DataLoader(traindataset, batch_size = 2, shuffle=True,  num_workers=4);\n",
        "val_loader = data.DataLoader(valdataset, batch_size = 2, shuffle=True,  num_workers=4);\n",
        "test_loader = data.DataLoader(testdataset, batch_size = 2, shuffle=True,  num_workers=4);"
      ],
      "execution_count": 0,
      "outputs": []
    },
    {
      "cell_type": "markdown",
      "metadata": {
        "id": "V_2i8QRKMW0u",
        "colab_type": "text"
      },
      "source": [
        "# Developing the deep learning architecture\n",
        "Here we created the unet architecture for a 128 by 128 input image size. We have also devised an architecture for a 512 by 512 input image size. In order to have less gpu memory usage, we chose the 128 by 128 image architecture."
      ]
    },
    {
      "cell_type": "code",
      "metadata": {
        "id": "mHi1BGUiIQIZ",
        "colab_type": "code",
        "colab": {}
      },
      "source": [
        "class u_net(nn.Module):\n",
        "\n",
        "  def __init__(self):\n",
        "    super().__init__();\n",
        "    self.conv1 = nn.Conv2d(3, 64, 3);\n",
        "    self.conv2 = nn.Conv2d(64, 128, 3);\n",
        "    self.conv3 = nn.Conv2d(128, 256, 3);\n",
        "    self.conv4 = nn.Conv2d(256, 512, 3);\n",
        "    self.conv5 = nn.Conv2d(512, 1024, 3);\n",
        "    self.conv6 = nn.Conv2d(1024, 512, 3);\n",
        "    self.conv7 = nn.Conv2d(512, 512, 3);\n",
        "    self.conv8 = nn.Conv2d(512, 256, 3);\n",
        "    self.conv9 = nn.Conv2d(256, 256, 3);\n",
        "    self.conv10 = nn.Conv2d(256, 128, 3);\n",
        "    self.conv11 = nn.Conv2d(128, 128, 3);\n",
        "    self.b1 = nn.BatchNorm2d(64);\n",
        "    self.b2 = nn.BatchNorm2d(128);\n",
        "    self.b3 = nn.BatchNorm2d(256);\n",
        "    self.b4 = nn.BatchNorm2d(512);\n",
        "    self.b5 = nn.BatchNorm2d(1024);\n",
        "    self.convT1 = nn.ConvTranspose2d(1024, 512, 2, 2);\n",
        "    self.convT2 = nn.ConvTranspose2d(512, 256, 2, 2);\n",
        "    self.convT3 = nn.ConvTranspose2d(256, 256, 2, 2);\n",
        "    self.convT4 = nn.ConvTranspose2d(128, 64, 2, 2);\n",
        "    self.convT5 = nn.ConvTranspose2d(64, 32, 2, 2);\n",
        "    self.pool1 = nn.MaxPool2d(2, 2);\n",
        "\n",
        "  def forward(self, x):\n",
        "    x = F.relu(self.b1(self.conv1(x)));\n",
        "    x = F.relu(self.b2(self.conv2(x)));\n",
        "    x = self.pool1(x);\n",
        "    x = F.relu(self.b2(self.conv11(x)));\n",
        "    x = F.relu(self.b3(self.conv3(x)));\n",
        "    x1 = x;\n",
        "    x1 = x1[:, :, int((58 - 24)/2) : int((58 + 24)/2), int((58 - 24)/2) : int((58 + 24)/2)];\n",
        "    x = self.pool1(x);\n",
        "    x = F.relu(self.b3(self.conv9(x)));\n",
        "    x = F.relu(self.b4(self.conv4(x)));\n",
        "    x2 = x;\n",
        "    x2 = x2[:, :, int((25 - 16)/2) : int((25 + 16)/2), int((25 - 16)/2) : int((25 + 16)/2)];\n",
        "    x = self.pool1(x);\n",
        "    x = F.relu(self.b4(self.conv7(x)));\n",
        "    x = F.relu(self.b5(self.conv5(x)));\n",
        "    x = self.b4(self.convT1(x));\n",
        "    x = torch.cat((x2, x), dim = 1);\n",
        "    x = F.relu(self.b4(self.conv6(x)));\n",
        "    x = F.relu(self.b4(self.conv7(x)));\n",
        "    x = self.b3(self.convT2(x));\n",
        "    x = torch.cat((x1, x), dim = 1);\n",
        "    x = F.relu(self.b3(self.conv8(x)));\n",
        "    x = F.relu(self.b3(self.conv9(x)));\n",
        "    x = self.b3(self.convT3(x));\n",
        "    x = F.relu(self.b2(self.conv10(x)));\n",
        "    x = F.relu(self.b2(self.conv11(x)));\n",
        "    x = F.relu(self.b2(self.conv11(x)));\n",
        "    x = F.relu(self.b2(self.conv11(x)));\n",
        "    x = self.b1(self.convT4(x));\n",
        "    x = self.convT5(x);\n",
        "    del x1;\n",
        "    del x2;\n",
        "    return x;"
      ],
      "execution_count": 0,
      "outputs": []
    },
    {
      "cell_type": "code",
      "metadata": {
        "id": "fV3_ZwA-IU0D",
        "colab_type": "code",
        "colab": {}
      },
      "source": [
        "class u_net512(nn.Module):\n",
        "\n",
        "  def __init__(self):\n",
        "    super().__init__();\n",
        "    self.conv1 = nn.Conv2d(3, 64, 3);\n",
        "    self.b1 = nn.BatchNorm2d(64);\n",
        "    self.conv2 = nn.Conv2d(64, 64, 3);\n",
        "    self.pool1 = nn.MaxPool2d(2, 2);\n",
        "    self.conv3 = nn.Conv2d(64, 128, 3);\n",
        "    self.b2 = nn.BatchNorm2d(128);\n",
        "    self.conv4 = nn.Conv2d(128, 128, 3);\n",
        "    self.conv5 = nn.Conv2d(128, 256, 3);\n",
        "    self.b3 = nn.BatchNorm2d(256)\n",
        "    self.conv6 = nn.Conv2d(256, 256, 3);\n",
        "    self.conv7 = nn.Conv2d(256, 512, 3);\n",
        "    self.b4 = nn.BatchNorm2d(512);\n",
        "    self.conv8 = nn.Conv2d(512, 512, 3);\n",
        "    self.conv9 = nn.Conv2d(512, 1024, 3);\n",
        "    self.b5 = nn.BatchNorm2d(1024);\n",
        "    self.conv10 = nn.Conv2d(1024, 1024, 3);\n",
        "    self.convT1 = nn.ConvTranspose2d(1024, 512, 2, 2);\n",
        "    self.conv11 = nn.Conv2d(1024, 512, 3);\n",
        "    self.conv12 = nn.Conv2d(512, 512, 3);\n",
        "    self.convT2 = nn.ConvTranspose2d(512, 256, 2, 2);\n",
        "    self.conv13 = nn.Conv2d(512, 256, 3);\n",
        "    self.conv14 = nn.Conv2d(256, 256, 3);\n",
        "    self.convT3 = nn.ConvTranspose2d(256, 128, 2, 2);\n",
        "    self.conv15 = nn.Conv2d(256, 128, 3);\n",
        "    self.conv16 = nn.Conv2d(128, 128, 3);\n",
        "    self.convT4 = nn.ConvTranspose2d(128, 64, 2, 2);\n",
        "    self.convT5 = nn.ConvTranspose2d(64, 32, 2, 2);\n",
        "    self.conv17 = nn.Conv2d(32, 32, 145);\n",
        "\n",
        "  def forward(self, x):\n",
        "    x = F.relu(self.b1(self.conv1(x)));\n",
        "    x = F.relu(self.b1(self.conv2(x)));\n",
        "    x = self.pool1(x);\n",
        "    x = F.relu(self.b2(self.conv3(x)));\n",
        "    x = F.relu(self.b2(self.conv4(x)));\n",
        "    x1 = x;\n",
        "    x1 = x1[:, :, int((250 - 168)/2) : int((250 + 168)/2), int((250 - 168)/2) : int((250 + 168)/2)];\n",
        "    x = self.pool1(x);\n",
        "    x = F.relu(self.b3(self.conv5(x)));\n",
        "    x = F.relu(self.b3(self.conv6(x)));\n",
        "    x2 = x;\n",
        "    x2 = x2[:, :, int((121 - 88)/2) : int((121 + 88)/2), int((121 - 88)/2) : int((121 + 88)/2)];\n",
        "    x = self.pool1(x);\n",
        "    x = F.relu(self.b4(self.conv7(x)));\n",
        "    x = F.relu(self.b4(self.conv8(x)));\n",
        "    x3 = x;\n",
        "    x3 = x3[:, :, int((56 - 48)/2) : int((56 + 48)/2), int((56 - 48)/2) : int((56 + 48)/2)];\n",
        "    x = self.pool1(x);\n",
        "    x = F.relu(self.b5(self.conv9(x)));\n",
        "    x = F.relu(self.b5(self.conv10(x)));\n",
        "    x = self.b4(self.convT1(x));\n",
        "    x = torch.cat((x3, x), dim = 1);\n",
        "    x = F.relu(self.b4(self.conv11(x)));\n",
        "    x = F.relu(self.b4(self.conv12(x)));\n",
        "    x = self.b3(self.convT2(x)); \n",
        "    x = torch.cat((x2, x), dim = 1);\n",
        "    x = F.relu(self.b3(self.conv13(x)));\n",
        "    x = F.relu(self.b3(self.conv14(x)));\n",
        "    x = self.b2(self.convT3(x)); \n",
        "    x = torch.cat((x1, x), dim = 1);\n",
        "    x = F.relu(self.b2(self.conv15(x)));\n",
        "    x = F.relu(self.b2(self.conv16(x)));\n",
        "    x = self.b1(self.convT4(x)); \n",
        "    x = self.convT5(x);\n",
        "    x = F.relu(self.conv17(x));\n",
        "    del x1;\n",
        "    del x2;\n",
        "    del x3;\n",
        "    return x;"
      ],
      "execution_count": 0,
      "outputs": []
    },
    {
      "cell_type": "code",
      "metadata": {
        "id": "HAcRwE_PQJYq",
        "colab_type": "code",
        "outputId": "e1689df4-ab87-4d44-cf0e-cf7e006b288d",
        "colab": {
          "base_uri": "https://localhost:8080/",
          "height": 35
        }
      },
      "source": [
        "# Putting the model into the gpu\n",
        "\n",
        "device = torch.device(\"cuda:0\" if torch.cuda.is_available() else \"cpu\");\n",
        "print(device)\n",
        "UNET = u_net();\n",
        "UNET.to(device);"
      ],
      "execution_count": 25,
      "outputs": [
        {
          "output_type": "stream",
          "text": [
            "cuda:0\n"
          ],
          "name": "stdout"
        }
      ]
    },
    {
      "cell_type": "code",
      "metadata": {
        "id": "ZDBnT5Z2QTwP",
        "colab_type": "code",
        "colab": {}
      },
      "source": [
        "# Setting the loss functions and the optimizers that we are going to use here\n",
        "\n",
        "criterion = nn.CrossEntropyLoss();\n",
        "optimizer = optim.Adam(UNET.parameters(), lr = 0.0001, betas = (0.9, 0.999), eps = 1e-08, weight_decay=0, amsgrad=False);"
      ],
      "execution_count": 0,
      "outputs": []
    },
    {
      "cell_type": "markdown",
      "metadata": {
        "id": "MgAOyT1PNmXx",
        "colab_type": "text"
      },
      "source": [
        "# Training the model"
      ]
    },
    {
      "cell_type": "code",
      "metadata": {
        "id": "d5tg5vqBQa3p",
        "colab_type": "code",
        "colab": {}
      },
      "source": [
        "losses = []\n",
        "\n",
        "for j in range(500):\n",
        "  for i, data in enumerate(train_loader):  \n",
        "    inputs, labels = data;\n",
        "    if labels.size() == torch.Size([1, 1, 128, 128]):\n",
        "      labels = labels.reshape(1, 128, 128);\n",
        "    elif labels.size() == torch.Size([2, 1, 128, 128]):\n",
        "      labels = labels.reshape(2, 128, 128);\n",
        "    inputs, labels = inputs.to(device), labels.to(device);\n",
        "    optimizer.zero_grad();\n",
        "    outputs = UNET(inputs);\n",
        "    loss = criterion(outputs, labels);\n",
        "    loss.backward();\n",
        "    optimizer.step();\n",
        "    losses.append(loss.item())"
      ],
      "execution_count": 0,
      "outputs": []
    },
    {
      "cell_type": "code",
      "metadata": {
        "id": "29nWNHk8N-Wl",
        "colab_type": "code",
        "colab": {}
      },
      "source": [
        "# Visualization of the loss (convergence)\n",
        "\n",
        "plt.plot(losses)\n",
        "print('The variation of loss function can be seen as:')\n",
        "plt.show()\n",
        "\n",
        "# We will use a gaussian filter to smoothen the curve\n",
        "from scipy.ndimage import gaussian_filter1d\n",
        "\n",
        "ls = gaussian_filter1d(losses, 100) # Where 1 is the standard deviation\n",
        "print('After applying Gaussian filter:')\n",
        "plt.plot(ls)\n",
        "plt.show()"
      ],
      "execution_count": 0,
      "outputs": []
    },
    {
      "cell_type": "code",
      "metadata": {
        "id": "7_axpSndQuHn",
        "colab_type": "code",
        "colab": {}
      },
      "source": [
        "# Saving the model\n",
        "\n",
        "PATH = '/content/gdrive/My Drive/Camvid dataset/saved.pth';\n",
        "torch.save(UNET.state_dict(),PATH); # A state_dict is simply a Python dictionary \n",
        "# object that maps each layer to its parameter tensor. "
      ],
      "execution_count": 0,
      "outputs": []
    },
    {
      "cell_type": "code",
      "metadata": {
        "id": "aJcDMKaMI-_-",
        "colab_type": "code",
        "colab": {}
      },
      "source": [
        "# Loading the model\n",
        "\n",
        "PATH = '/content/gdrive/My Drive/Camvid dataset/saved.pth';\n",
        "UNET.load_state_dict(torch.load(PATH))"
      ],
      "execution_count": 0,
      "outputs": []
    },
    {
      "cell_type": "markdown",
      "metadata": {
        "id": "qLx-IyA-QKWB",
        "colab_type": "text"
      },
      "source": [
        "# Metrics for evaluating the model\n",
        "## Pixel-wise accuarcy:\n",
        "\n",
        "It is the percentage of pixels in the image that are classified correctly. But the main issue in this kind of classification is in the case of **class-imbalance**. Suppose, we have an image wherein there are two classes. We have to perform semantic segmentation on this image. But the scenario is that - the first class covers 95 percent of the image. So while training, the model will very well learn about the presence of the class that covers most of the image. So the test accuracy can be very high. But the second class might not get detected correctly. We won't know about that if we use pixel-wise accuracy."
      ]
    },
    {
      "cell_type": "code",
      "metadata": {
        "id": "Jg_r0yuTfKzH",
        "colab_type": "code",
        "outputId": "3f209bd6-cfbe-4bdf-a07f-9238077fa2f5",
        "colab": {
          "base_uri": "https://localhost:8080/",
          "height": 35
        }
      },
      "source": [
        "# Compute test-set accuracy\n",
        "\n",
        "def corr(x): # To get proper correspondence between the outputs and the labels\n",
        "    x = x.cpu();\n",
        "    x = x.detach().numpy(); # Detach() was used as one can't convert a pytorch tensor to a numpy array if\n",
        "    # required_grad is set True for that variable\n",
        "    x = x.argmax(axis = 1);\n",
        "    return x;\n",
        "\n",
        "correct = 0;\n",
        "total = 0;\n",
        "for i, data in enumerate(val_loader):\n",
        "    inputs, labels = data;\n",
        "    inputs = inputs.to(device);\n",
        "    outputs = UNET.forward(inputs);\n",
        "    outputs = corr(outputs);\n",
        "    if labels.size() == torch.Size([outputs.shape[0], 1, 128, 128]):\n",
        "      labels = labels.detach().numpy();\n",
        "      labels = labels.reshape(outputs.shape[0], 128, 128);\n",
        "    # labels = labels.reshape(4, 512, 512);\n",
        "    outputs = outputs.reshape(outputs.shape[0], 128, 128);\n",
        "    for i in range(128):\n",
        "      for j in range(128):\n",
        "        for k in range(1):\n",
        "          total = total + 1;\n",
        "          if outputs[k, i, j] == labels[k, i, j]:\n",
        "            correct = correct + 1;\n",
        "print(\"Hence, the pixel-wise accuracy is \", (correct/total) * 100);"
      ],
      "execution_count": 58,
      "outputs": [
        {
          "output_type": "stream",
          "text": [
            "Hence, the pixel-wise accuracy is  40.53442818777902\n"
          ],
          "name": "stdout"
        }
      ]
    },
    {
      "cell_type": "markdown",
      "metadata": {
        "id": "BWlZBH5giWVm",
        "colab_type": "text"
      },
      "source": [
        "## Intersection Over Union (Jaccard Index)\n",
        "This is a better metric than pixel wise accuracy. This is because, here we calculate the intersection over union for every class and then take their average. So, if any class-imbalance is present, it will definitely get pointed out by this metric.\n",
        "\n",
        "![alt text](https://miro.medium.com/max/450/0*kraYHnYpoJOhaMzq.png)"
      ]
    },
    {
      "cell_type": "code",
      "metadata": {
        "id": "catv4ZXtiUOp",
        "colab_type": "code",
        "colab": {}
      },
      "source": [
        "IOUf = 0\n",
        "count = 0\n",
        "for i, data in enumerate(test_loader):\n",
        "    inputs, labels = data;\n",
        "    inputs = inputs.to(device);\n",
        "    outputs = UNET.forward(inputs);\n",
        "    outputs = corr(outputs);\n",
        "    if labels.size() == torch.Size([outputs.shape[0], 1, 128, 128]):\n",
        "      labels = labels.detach().numpy();\n",
        "      labels = labels.reshape(outputs.shape[0], 128, 128);\n",
        "    outputs = outputs.reshape(outputs.shape[0], 128, 128);\n",
        "    for k in range(outputs.shape[0]):\n",
        "      o = outputs[k, :, :]\n",
        "      l = labels[k, :, :]\n",
        "      IOU = 0\n",
        "      for c in range(32):\n",
        "        intersectionc = 0\n",
        "        unionc = 0\n",
        "        f = c * np.ones((1, 128, 128))\n",
        "        i = (o == c) * 1\n",
        "        j = (l == c) * 1\n",
        "        inte = 0\n",
        "        for x in range(128):\n",
        "          for y in range(128):\n",
        "            if i[x, y] == j[x, y] and i[x, y] == 1:\n",
        "              inte = inte + 1\n",
        "        intersectionc = intersectionc + inte\n",
        "        unionc = unionc + ((f == l) * 1).sum() + ((f == o) * 1).sum() - inte\n",
        "        if unionc == 0:\n",
        "         continue\n",
        "        IOUc = (intersectionc)/(unionc)\n",
        "        IOU = IOU + IOUc\n",
        "      count = count + 1\n",
        "      IOU = IOU/32\n",
        "    IOUf = IOUf + IOU"
      ],
      "execution_count": 0,
      "outputs": []
    },
    {
      "cell_type": "code",
      "metadata": {
        "id": "-xeSXmoMs4jZ",
        "colab_type": "code",
        "colab": {
          "base_uri": "https://localhost:8080/",
          "height": 35
        },
        "outputId": "78145437-43b4-428f-944d-ba928ace4d18"
      },
      "source": [
        "print('The intersection-over-union is', IOUf/count * 100)"
      ],
      "execution_count": 117,
      "outputs": [
        {
          "output_type": "stream",
          "text": [
            "The intersection over union is 17.42041493261219\n"
          ],
          "name": "stdout"
        }
      ]
    },
    {
      "cell_type": "markdown",
      "metadata": {
        "id": "mxTXoTKZ7DpO",
        "colab_type": "text"
      },
      "source": [
        "# Testing the model for a sample image"
      ]
    },
    {
      "cell_type": "code",
      "metadata": {
        "id": "-02MIDT0fN4P",
        "colab_type": "code",
        "colab": {}
      },
      "source": [
        "# Converting back to colored form\n",
        "\n",
        "# Pixels corresponding to each class are stored in the list\n",
        "colors = [];\n",
        "colors.append(np.array([64, 128, 64], dtype = 'uint8'));\n",
        "colors.append(np.array([128, 0, 192], dtype = 'uint8'));\n",
        "colors.append(np.array([192, 128, 0], dtype = 'uint8'));\n",
        "colors.append(np.array([64, 128, 0], dtype = 'uint8'));\n",
        "colors.append(np.array([0, 0, 128], dtype = 'uint8'));\n",
        "colors.append(np.array([128, 0, 64], dtype = 'uint8'));\n",
        "colors.append(np.array([192, 0, 64], dtype = 'uint8'));\n",
        "colors.append(np.array([64, 128, 192], dtype = 'uint8'));\n",
        "colors.append(np.array([128, 192, 192], dtype = 'uint8'));\n",
        "colors.append(np.array([128, 64, 64], dtype = 'uint8'));\n",
        "colors.append(np.array([192, 0, 128], dtype = 'uint8'));\n",
        "colors.append(np.array([64, 0, 192], dtype = 'uint8'));\n",
        "colors.append(np.array([64, 128, 128], dtype = 'uint8'));\n",
        "colors.append(np.array([192, 0, 192], dtype = 'uint8'));\n",
        "colors.append(np.array([64, 64, 128], dtype = 'uint8'));\n",
        "colors.append(np.array([128, 192, 64], dtype = 'uint8'));\n",
        "colors.append(np.array([0, 64, 64], dtype = 'uint8'));\n",
        "colors.append(np.array([128, 64, 128], dtype = 'uint8'));\n",
        "colors.append(np.array([192, 128, 128], dtype = 'uint8'));\n",
        "colors.append(np.array([192, 0, 0], dtype = 'uint8'));\n",
        "colors.append(np.array([128, 128, 192], dtype = 'uint8'));\n",
        "colors.append(np.array([128, 128, 128], dtype = 'uint8'));\n",
        "colors.append(np.array([192, 128, 64], dtype = 'uint8'));\n",
        "colors.append(np.array([64, 0, 0], dtype = 'uint8'));\n",
        "colors.append(np.array([64, 64, 0], dtype = 'uint8'));\n",
        "colors.append(np.array([128, 64, 192], dtype = 'uint8'));\n",
        "colors.append(np.array([0, 128, 128], dtype = 'uint8'));\n",
        "colors.append(np.array([192, 128, 192], dtype = 'uint8'));\n",
        "colors.append(np.array([64, 0, 64], dtype = 'uint8'));\n",
        "colors.append(np.array([0, 192, 192], dtype = 'uint8'));\n",
        "colors.append(np.array([0, 0, 0], dtype = 'uint8'))\n",
        "colors.append(np.array([0, 192, 64], dtype = 'uint8'));\n",
        "\n",
        "def test(op_img):\n",
        "    class_pix = np.ones([128, 128, 3], dtype = 'uint8');\n",
        "    for index, c in enumerate(colors):\n",
        "        class_pix[op_img == index] = c; # Vectorized masking is much much faster\n",
        "    return class_pix.reshape((128, 128, 3))"
      ],
      "execution_count": 0,
      "outputs": []
    },
    {
      "cell_type": "code",
      "metadata": {
        "id": "_QVbtnxZ93JH",
        "colab_type": "code",
        "outputId": "d855369b-1301-4cb3-f822-e1b6d7714594",
        "colab": {
          "base_uri": "https://localhost:8080/",
          "height": 529
        }
      },
      "source": [
        "a = test(outputs[0]);\n",
        "a = a.reshape([128, 128, 3])\n",
        "\n",
        "from google.colab.patches import cv2_imshow\n",
        "a = cv2.resize(a, (512, 512), interpolation = cv2.INTER_AREA)\n",
        "cv2_imshow(a)"
      ],
      "execution_count": 121,
      "outputs": [
        {
          "output_type": "display_data",
          "data": {
            "image/png": "[encoded data removed]",
            "text/plain": [
              "<PIL.Image.Image image mode=RGB size=512x512 at 0x7FF2D822DCF8>"
            ]
          },
          "metadata": {
            "tags": []
          }
        }
      ]
    }
  ]
}